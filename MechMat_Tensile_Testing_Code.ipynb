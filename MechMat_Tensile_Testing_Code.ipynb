{
  "nbformat": 4,
  "nbformat_minor": 0,
  "metadata": {
    "colab": {
      "provenance": [],
      "include_colab_link": true
    },
    "kernelspec": {
      "name": "python3",
      "display_name": "Python 3"
    },
    "language_info": {
      "name": "python"
    }
  },
  "cells": [
    {
      "cell_type": "markdown",
      "metadata": {
        "id": "view-in-github",
        "colab_type": "text"
      },
      "source": [
        "<a href=\"https://colab.research.google.com/github/edmosym/skills-copilot-codespaces-vscode/blob/main/MechMat_Tensile_Testing_Code.ipynb\" target=\"_parent\"><img src=\"https://colab.research.google.com/assets/colab-badge.svg\" alt=\"Open In Colab\"/></a>"
      ]
    },
    {
      "cell_type": "code",
      "execution_count": null,
      "metadata": {
        "id": "mbH5Qd9h5JuT"
      },
      "outputs": [],
      "source": [
        "import numpy as np\n",
        "from google.colab import files\n",
        "import matplotlib.pyplot as plt\n",
        "import pandas as pd\n",
        "import io\n",
        "\n",
        "uploaded=files.upload()\n",
        "\n",
        "#https://www.geeksforgeeks.org/ways-to-import-csv-files-in-google-colab/#"
      ]
    },
    {
      "cell_type": "code",
      "source": [
        "name='PASCO_Tensile_Data.csv' # Type the name of the file given from the first cell.\n",
        "# If you run the first cell more than once on a file with the same name, be sure\n",
        "# to include the new name, which might include (1) or something like that.\n",
        "#https://www.geeksforgeeks.org/ways-to-import-csv-files-in-google-colab/#\n",
        "#https://www.askpython.com/python-modules/pandas/pandas-read-csv-with-headers\n",
        "\n",
        "TensileDataFrame=pd.read_csv(io.BytesIO(uploaded[name]), header=0)\n",
        "print(TensileDataFrame)"
      ],
      "metadata": {
        "id": "emdvGhSC5gbr"
      },
      "execution_count": null,
      "outputs": []
    },
    {
      "cell_type": "code",
      "source": [
        "TensileDataFrame.plot()\n",
        "# Note that the x-axis will be useful for determining the StartIndex and EndIndex"
      ],
      "metadata": {
        "id": "roPt1TBk5wPB"
      },
      "execution_count": null,
      "outputs": []
    },
    {
      "cell_type": "code",
      "source": [
        "StartIndex=3500 #Enter the starting index from the x-axis from above plot to\n",
        "#select appropriate starting point of data to select; You might run multiple\n",
        "#times to get the range you desire.\n",
        "\n",
        "EndIndex=11920 #Enter the ending point of data to select\n",
        "force=np.array(TensileDataFrame['Force (N) Run #1'])\n",
        "position=np.array(TensileDataFrame['Position (m) Run #1'])\n",
        "\n",
        "selected_force=force[StartIndex:EndIndex]\n",
        "selected_position=position[StartIndex:EndIndex]\n",
        "plt.plot(selected_position,selected_force)\n",
        "plt.title('Force vs Position - Sample #',fontsize=20)\n",
        "plt.xlabel('Position (m)',fontsize=16)\n",
        "plt.ylabel('Force (N)',fontsize=16)\n",
        "plt.show()"
      ],
      "metadata": {
        "id": "HM_3mM736IuP"
      },
      "execution_count": null,
      "outputs": []
    },
    {
      "cell_type": "code",
      "source": [
        "# Show Plot for Stress and Strain\n",
        "CrossArea= 0.006*(0.02*0.0254) #m^2\n",
        "InitialLength= 63.5/1000 #m\n",
        "StressData=selected_force/CrossArea*1e-6 # Stress in units of MPa\n",
        "StrainData=selected_position/InitialLength # Strain in dimensionless units\n",
        "\n",
        "#Calculate the modulus of toughness\n",
        "m_t=np.trapz(StressData*1e6,StrainData)\n",
        "#https://numpy.org/doc/stable/reference/generated/numpy.trapz.html\n",
        "print('Modulus of Toughness =',np.round(m_t*1e-3,1),'kPa')\n",
        "\n",
        "#Estimate ultimate tensile strength\n",
        "S_u=np.max(StressData)\n",
        "print('Estimated Ultimate Tensile Strength =',np.round(S_u,1),'MPa')\n",
        "\n",
        "plt.plot(StrainData,StressData)\n",
        "plt.title('Stress vs Strain - Sample #',fontsize=16)\n",
        "plt.xlabel('Strain',fontsize=16)\n",
        "plt.ylabel('Stress (MPa)',fontsize=16)\n",
        "plt.show()"
      ],
      "metadata": {
        "id": "QtHqZixw6Ltj"
      },
      "execution_count": null,
      "outputs": []
    },
    {
      "cell_type": "code",
      "source": [
        "# Select and Show Data for Elastic Region\n",
        "\n",
        "ElasticStartIndex=3500 #Enter the starting index from the x-axis from above plot to\n",
        "#select appropriate starting point of data to select; You might run multiple\n",
        "#times to get the range you desire.\n",
        "\n",
        "ElasticEndIndex=6100 #Enter the ending point of data to select\n",
        "selected_elastic_stress=force[ElasticStartIndex:ElasticEndIndex]/CrossArea*1e-6\n",
        "selected_elastic_strain=position[ElasticStartIndex:ElasticEndIndex]/InitialLength\n",
        "\n",
        "slope, intercept = np.polyfit(selected_elastic_strain, selected_elastic_stress, 1)\n",
        "print('Elastic Modulus =', np.round(slope*1e-3,1), 'GPa')\n",
        "\n",
        "#Calculate the modulus of resilience on the elastic region\n",
        "m_r=np.trapz(selected_elastic_stress*1e6,selected_elastic_strain)\n",
        "print('Modulus of Resilience =',np.round(m_r*1e-3,1),'kPa')\n",
        "\n",
        "#Estimate the yield strength of the material (end of elastic region)\n",
        "S_y=np.max(selected_elastic_stress)\n",
        "print('Estimated Yield Strength =',np.round(S_y,1),'MPa')\n",
        "\n",
        "plt.plot(selected_elastic_strain,selected_elastic_stress)\n",
        "plt.title('Stress vs Strain for Elastic Region - Sample #',fontsize=16)\n",
        "plt.xlabel('Strain',fontsize=16)\n",
        "plt.ylabel('Stress (MPa)',fontsize=16)\n",
        "plt.plot(selected_elastic_strain,selected_elastic_strain*slope+intercept)\n",
        "plt.show()"
      ],
      "metadata": {
        "id": "wqGLeeJS6e4o"
      },
      "execution_count": null,
      "outputs": []
    }
  ]
}